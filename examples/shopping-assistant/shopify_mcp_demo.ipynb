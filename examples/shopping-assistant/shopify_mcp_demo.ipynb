{
 "cells": [
  {
   "cell_type": "markdown",
   "id": "3113dab0-f2d8-4513-9c82-3d8536b46665",
   "metadata": {},
   "source": [
    "# 🛒 Shopping Assistant with OpenResponses\n",
    "1. Add `api_key` before running the next cell.\n",
    "2. Now run the cell to experience real-time shopping.\n",
    "\n",
    "## What happens underneath\n",
    "1. Find a product and add to cart with **SHOPIFY REMOTE MCP** and **meta-llama/llama-4-maverick-17b-128e-instruct**.  \n",
    "2. Get the checkout link, all with just 4 lines of code. (Currently Llama is configured)  \n",
    "3. OpenResponses is doing the heavy lifting of agent orchestration.\n",
    "\n",
    "# We deserve a star 😄 ? \n",
    "- If you like this, give us a star at <https://github.com/masaic-ai-platform/open-responses>"
   ]
  },
  {
   "cell_type": "code",
   "execution_count": 1,
   "id": "b34614bb",
   "metadata": {},
   "source": [
    "from openai import OpenAI\n",
    "\n",
    "\"\"\"This example demonstrates how to use the OpenAI python SDK to interact with the Shopify MCP tools\"\"\"\n",
    "\n",
    "def main():\n",
    "    client = OpenAI(\n",
    "        api_key= \"\"\n",
    "    )\n",
    "    print(\"called OpenResponses....\")\n",
    "    print(\"===========================================\")\n",
    "\n",
    "    #code to call OpenResponses starts here \n",
    "    response = client.responses.create(\n",
    "        model=\"groq@meta-llama/llama-4-maverick-17b-128e-instruct\", #should follow convention model-provider@model-name\n",
    "        tools=[\n",
    "            {\n",
    "                \"type\": \"mcp\",\n",
    "                \"server_label\": \"shopify\",\n",
    "                \"server_url\": \"https://pitchskin.com/api/mcp\",\n",
    "                \"allowed_tools\": [\"search_shop_catalog\", \"update_cart\"]\n",
    "            }\n",
    "        ],\n",
    "        input=\"Add the Blemish Toner Pads to my cart\"\n",
    "    )\n",
    "    print(response.output[0].content[0].text)\n",
    "    \n",
    "if __name__ == \"__main__\":\n",
    "    main()"
   ]
  },
  {
   "cell_type": "code",
   "execution_count": null,
   "id": "fe5e8d7e-d92b-4231-bf84-478d113bda5a",
   "metadata": {},
   "outputs": [],
   "source": []
  }
 ],
 "metadata": {
  "kernelspec": {
   "display_name": "Python 3 (ipykernel)",
   "language": "python",
   "name": "python3"
  },
  "language_info": {
   "codemirror_mode": {
    "name": "ipython",
    "version": 3
   },
   "file_extension": ".py",
   "mimetype": "text/x-python",
   "name": "python",
   "nbconvert_exporter": "python",
   "pygments_lexer": "ipython3",
   "version": "3.11.6"
  }
 },
 "nbformat": 4,
 "nbformat_minor": 5
}
